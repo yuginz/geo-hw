{
 "cells": [
  {
   "cell_type": "code",
   "execution_count": null,
   "metadata": {},
   "outputs": [],
   "source": [
    "import warnings\n",
    "warnings.filterwarnings('ignore')\n",
    "\n",
    "import requests\n",
    "import overpass\n",
    "\n",
    "import pandas as pd\n",
    "import numpy as np\n",
    "import geopandas as gpd\n",
    "from shapely.geometry import Point, LineString, Polygon, MultiPoint, MultiLineString, MultiPolygon\n",
    "from geopy import distance\n",
    "\n",
    "from sklearn.model_selection import train_test_split\n",
    "from sklearn.metrics import mean_absolute_error\n",
    "from sklearn.linear_model import LinearRegression\n",
    "\n",
    "overpass_url = \"http://overpass-api.de/api/interpreter\"\n",
    "\n",
    "from geopy.geocoders import Nominatim\n",
    "from geopy.extra.rate_limiter import RateLimiter\n",
    "\n",
    "geolocator = Nominatim(user_agent = 'chelych@mail.com')\n",
    "reverse = RateLimiter(geolocator.reverse, min_delay_seconds=1,error_wait_seconds=2.0,swallow_exceptions=True,\n",
    "                      return_value_on_exception=None)\n",
    "\n",
    "getcen = RateLimiter(geolocator.geocode, min_delay_seconds=1,error_wait_seconds=2.0,swallow_exceptions=True,\n",
    "                      return_value_on_exception=None)\n"
   ]
  },
  {
   "cell_type": "code",
   "execution_count": null,
   "metadata": {},
   "outputs": [],
   "source": [
    "from functools import partial\n",
    "import pyproj\n",
    "from shapely.ops import transform\n",
    "\n",
    "proj_wgs84 = pyproj.Proj('+proj=longlat +datum=WGS84')\n",
    "\n",
    "def geodesic_point_buffer(lon, lat, m):\n",
    "    aeqd_proj = '+proj=aeqd +lat_0={lat} +lon_0={lon} +x_0=0 +y_0=0'\n",
    "    project = partial(\n",
    "        pyproj.transform,\n",
    "        pyproj.Proj(aeqd_proj.format(lon=lon, lat=lat)),\n",
    "        proj_wgs84)\n",
    "    buf = Point(0, 0).buffer(m)  \n",
    "    return transform(project, buf)\n"
   ]
  },
  {
   "cell_type": "markdown",
   "metadata": {},
   "source": [
    "### Read data"
   ]
  },
  {
   "cell_type": "code",
   "execution_count": null,
   "metadata": {},
   "outputs": [],
   "source": [
    "train = pd.read_csv('data/mf_geo_train.csv')\n"
   ]
  },
  {
   "cell_type": "code",
   "execution_count": null,
   "metadata": {},
   "outputs": [],
   "source": [
    "from keplergl import KeplerGl\n",
    "kepler = KeplerGl()\n",
    "kepler.add_data(train)\n",
    "kepler"
   ]
  },
  {
   "cell_type": "code",
   "execution_count": null,
   "metadata": {},
   "outputs": [],
   "source": [
    "\n",
    "reverse = RateLimiter(geolocator.reverse, min_delay_seconds=1,error_wait_seconds=2.0,swallow_exceptions=True,\n",
    "                      return_value_on_exception=None)\n",
    "a = []\n",
    "for i in range(len(train)):\n",
    "    cord =  str(train['lat'][i]) , str(train['lon'][i]) \n",
    "    cordst = ', '.join(cord) \n",
    "    location = reverse(cordst)\n",
    "    if location.raw.get('address').get('city') is None:\n",
    "        a.append(location.raw.get('address').get('state'))\n",
    "    elif \"район\" in location.raw.get('address').get('city') or \"Район\" in location.raw.get('address').get('city'):\n",
    "          a.append(location.raw.get('address').get('state'))\n",
    "    else: a.append(location.raw.get('address').get('city'))\n",
    "train['City'] = a\n",
    "train['City'] = train['City'].str.replace('городской округ ', '', regex=False)"
   ]
  },
  {
   "cell_type": "code",
   "execution_count": null,
   "metadata": {},
   "outputs": [],
   "source": [
    "geodesic_buffers_700m = gpd.GeoDataFrame()\n",
    "\n",
    "geodesic_buffers_700m['geometry'] = gpd.GeoDataFrame(\n",
    "    geometry=[Point(x,y) for x, y in zip(train['lon'], train['lat'])]\n",
    ").apply(lambda x: geodesic_point_buffer(x['geometry'].x, x['geometry'].y, 700), axis=1)"
   ]
  },
  {
   "cell_type": "code",
   "execution_count": null,
   "metadata": {},
   "outputs": [],
   "source": [
    "err = []\n",
    "subway_data = pd.DataFrame(columns = ['lat','lon','name','city'])\n",
    "for i in set(train.City.values):\n",
    "\n",
    "    overpass_query = '''\n",
    "    [out:json];\n",
    "    area[name=\"{}\"]->.b;\n",
    "    node(area.b)[railway=station][station=subway];\n",
    "    out center;\n",
    "    node(area.b)[station=light_rail];\n",
    "    out meta;\n",
    "    '''.format(i)\n",
    "\n",
    "    response = requests.get(overpass_url, \n",
    "                        params={'data': overpass_query})\n",
    "    try:\n",
    "        subway = response.json()\n",
    "    except:\n",
    "        err.append(i)\n",
    "        print(i)\n",
    "        continue\n",
    "    subway_osm = pd.DataFrame(subway['elements'])\n",
    "    subway_osm = subway_osm.join(\n",
    "        pd.DataFrame([x['tags'] for x in subway['elements']]),lsuffix='_left', rsuffix='_right')\n",
    "    if 'lat' in subway_osm.columns:\n",
    "        subway_osm = subway_osm[['lat','lon','name']]\n",
    "    else:\n",
    "        continue\n",
    "    subway_osm['city'] = i\n",
    "    subway_data = pd.concat([subway_data, subway_osm], axis=0)\n",
    "subway_data = subway_data.reset_index(drop=True)"
   ]
  },
  {
   "cell_type": "code",
   "execution_count": null,
   "metadata": {},
   "outputs": [],
   "source": [
    "for i in err:\n",
    "\n",
    "    overpass_query = '''\n",
    "    [out:json];\n",
    "    area[name=\"{}\"]->.b;\n",
    "    node(area.b)[railway=station][station=subway];\n",
    "    out center;\n",
    "    node(area.b)[station=light_rail];\n",
    "    out meta;\n",
    "    '''.format(i)\n",
    "\n",
    "    response = requests.get(overpass_url, \n",
    "                        params={'data': overpass_query})\n",
    "    try:\n",
    "        subway = response.json()\n",
    "    except:\n",
    "        err.append(i)\n",
    "        print(i)\n",
    "        continue\n",
    "    subway_osm = pd.DataFrame(subway['elements'])\n",
    "    subway_osm = subway_osm.join(\n",
    "        pd.DataFrame([x['tags'] for x in subway['elements']]),lsuffix='_left', rsuffix='_right')\n",
    "    if 'lat' in subway_osm.columns:\n",
    "        subway_osm = subway_osm[['lat','lon','name']]\n",
    "    else:\n",
    "        continue\n",
    "    subway_osm['city'] = i\n",
    "    subway_data = pd.concat([subway_data, subway_osm], axis=0)\n",
    "subway_data = subway_data.reset_index(drop=True)"
   ]
  },
  {
   "cell_type": "code",
   "execution_count": null,
   "metadata": {},
   "outputs": [],
   "source": [
    "train['stations_cnt'] = 0\n",
    "train['min_dist_2station'] = 0\n",
    "k  = 0\n",
    "a = []\n",
    "mm = 0\n",
    "for i in range(len(train)):\n",
    "    for j in range(len(subway_data)):\n",
    "        if Point(subway_data['lon'][j] , subway_data['lat'][j]).within(geodesic_buffers_700m.geometry[i]):\n",
    "            k += 1\n",
    "            d = round(distance.geodesic((train['lat'][i] , train['lon'][i]),(subway_data['lat'][j] , subway_data['lon'][j])).m, 3)\n",
    "            a.append(d)\n",
    "    train['stations_cnt'][i] = k\n",
    "    k = 0\n",
    "    try:\n",
    "        mm = np.amin(a)\n",
    "    except ValueError:\n",
    "        pass\n",
    "    train['min_dist_2station'][i] = mm\n",
    "    a= []\n",
    "    mm = 0"
   ]
  },
  {
   "cell_type": "code",
   "execution_count": null,
   "metadata": {},
   "outputs": [],
   "source": [
    "geodesic_buffers_100m = gpd.GeoDataFrame()\n",
    "\n",
    "geodesic_buffers_100m['geometry'] = gpd.GeoDataFrame(\n",
    "    geometry=[Point(x,y) for x, y in zip(train['lon'], train['lat'])]\n",
    ").apply(lambda x: geodesic_point_buffer(x['geometry'].x, x['geometry'].y, 100), axis=1)"
   ]
  },
  {
   "cell_type": "code",
   "execution_count": null,
   "metadata": {},
   "outputs": [],
   "source": [
    "bus_data = pd.DataFrame(columns = ['lat','lon','name','city'])\n",
    "err = []\n",
    "for i in set(train.City.values):\n",
    "\n",
    "    overpass_query = '''\n",
    "    [out:json];\n",
    "    area[name=\"{}\"]->.b;\n",
    "    node(area.b)[highway=bus_stop];\n",
    "    out meta;\n",
    "    '''.format(i)\n",
    "\n",
    "    response = requests.get(overpass_url, \n",
    "                        params={'data': overpass_query})\n",
    "    print(i)\n",
    "    try:\n",
    "        bus = response.json()\n",
    "    except ValueError :\n",
    "        err.append(i)\n",
    "        continue\n",
    "    bus_osm = pd.DataFrame(bus['elements'])\n",
    "    bus_osm = bus_osm.join(\n",
    "        pd.DataFrame([x['tags'] for x in bus['elements']]),lsuffix='_left', rsuffix='_right')\n",
    "    if 'lat' in bus_osm.columns:\n",
    "        bus_osm = bus_osm[['lat','lon','name']]\n",
    "    else:\n",
    "        continue\n",
    "    bus_osm['city'] = i\n",
    "    bus_data = pd.concat([bus_data, bus_osm], axis=0)\n",
    "bus_data = bus_data.reset_index(drop=True)"
   ]
  },
  {
   "cell_type": "code",
   "execution_count": null,
   "metadata": {},
   "outputs": [],
   "source": [
    "for i in err:\n",
    "\n",
    "    overpass_query = '''\n",
    "    [out:json];\n",
    "    area[name=\"{}\"]->.b;\n",
    "    node(area.b)[highway=bus_stop];\n",
    "    out meta;\n",
    "    '''.format(i)\n",
    "\n",
    "    response = requests.get(overpass_url, \n",
    "                        params={'data': overpass_query})\n",
    "    print(i)\n",
    "    try:\n",
    "        bus = response.json()\n",
    "    except ValueError :\n",
    "        err.append(i)\n",
    "        continue\n",
    "    bus_osm = pd.DataFrame(bus['elements'])\n",
    "    bus_osm = bus_osm.join(\n",
    "        pd.DataFrame([x['tags'] for x in bus['elements']]),lsuffix='_left', rsuffix='_right')\n",
    "    if 'lat' in bus_osm.columns:\n",
    "        bus_osm = bus_osm[['lat','lon','name']]\n",
    "    else:\n",
    "        continue\n",
    "    bus_osm['city'] = i\n",
    "    bus_data = pd.concat([bus_data, bus_osm], axis=0)\n",
    "bus_data = bus_data.reset_index(drop=True)"
   ]
  },
  {
   "cell_type": "code",
   "execution_count": null,
   "metadata": {},
   "outputs": [],
   "source": [
    "train['busstop_cnt'] = 0\n",
    "k  = 0\n",
    "\n",
    "for i in range(len(train)):\n",
    "    for j in range(len(bus_data)):\n",
    "        if Point(bus_data['lon'][j] , bus_data['lat'][j]).within(geodesic_buffers_100m.geometry[i]):\n",
    "            k += 1\n",
    "    train['busstop_cnt'][i] = k\n",
    "    k = 0"
   ]
  },
  {
   "cell_type": "code",
   "execution_count": null,
   "metadata": {},
   "outputs": [],
   "source": [
    "il = [] \n",
    "pointl = []\n",
    "\n",
    "for i in set(train.City.values):\n",
    "    getcen = RateLimiter(geolocator.geocode, min_delay_seconds=1,error_wait_seconds=2.0,swallow_exceptions=True,\n",
    "                      return_value_on_exception=None)\n",
    "    center = getcen(i + ', Россия')\n",
    "    point = (float(center.raw.get('lat')) , float(center.raw.get('lon')))\n",
    "    il.append(i)\n",
    "    pointl.append(point)\n",
    "City_Center = pd.DataFrame({'City': il,\n",
    "                            'Point': pointl})"
   ]
  },
  {
   "cell_type": "code",
   "execution_count": null,
   "metadata": {},
   "outputs": [],
   "source": [
    "tc = train.merge(City_Center, how = 'inner', left_on='City', right_on='City')\n",
    "train['distance_to_center'] = 0\n",
    "d = 0\n",
    "for i in range(len(train)):\n",
    "    d = round(distance.geodesic((tc['lat'][i] , tc['lon'][i]),tc['Point'][i]).m, 3)\n",
    "    train['distance_to_center'][i] = d \n",
    "    d = 0"
   ]
  },
  {
   "cell_type": "code",
   "execution_count": null,
   "metadata": {},
   "outputs": [],
   "source": [
    "geodesic_buffers_150m = gpd.GeoDataFrame()\n",
    "\n",
    "geodesic_buffers_150m['geometry'] = gpd.GeoDataFrame(\n",
    "    geometry=[Point(x,y) for x, y in zip(train['lon'], train['lat'])]\n",
    ").apply(lambda x: geodesic_point_buffer(x['geometry'].x, x['geometry'].y, 150), axis=1)"
   ]
  },
  {
   "cell_type": "code",
   "execution_count": null,
   "metadata": {},
   "outputs": [],
   "source": [
    "train['neighbors'] = 0 \n",
    "k  = 0\n",
    "\n",
    "for i in range(len(geodesic_buffers_150m)):\n",
    "    for j in range(len(geodesic_buffers_150m)):\n",
    "        if j != i:\n",
    "            if geodesic_buffers_150m.geometry[j].intersects(geodesic_buffers_150m.geometry[i]):\n",
    "                k += 1\n",
    "    train['neighbors'][i] = k\n",
    "    k = 0"
   ]
  },
  {
   "cell_type": "code",
   "execution_count": null,
   "metadata": {},
   "outputs": [],
   "source": [
    "rail_data = pd.DataFrame(columns = ['lat','lon','name','city'])\n",
    "for i in set(train.City.values):\n",
    "\n",
    "    overpass_query = '''\n",
    "    [out:json];\n",
    "    area[name=\"{}\"]->.b;\n",
    "    node(area.b)[amenity=bus_station];\n",
    "    out center;\n",
    "    node(area.b)[railway=station][train=yes][station!=light_rail];\n",
    "    out center;\n",
    "    '''.format(i)\n",
    "\n",
    "    response = requests.get(overpass_url, \n",
    "                        params={'data': overpass_query})\n",
    "    rail = response.json()\n",
    "    rail_osm = pd.DataFrame(rail['elements'])\n",
    "    rail_osm = rail_osm.join(\n",
    "        pd.DataFrame([x['tags'] for x in rail['elements']]),lsuffix='_left', rsuffix='_right')\n",
    "    if 'lat' in rail_osm.columns:\n",
    "        rail_osm = rail_osm[['lat','lon','name']]\n",
    "    else:\n",
    "        continue\n",
    "    rail_osm['city'] = i\n",
    "    rail_data = pd.concat([rail_data, rail_osm], axis=0)\n",
    "rail_data = rail_data.reset_index(drop=True)"
   ]
  },
  {
   "cell_type": "code",
   "execution_count": null,
   "metadata": {},
   "outputs": [],
   "source": [
    "geodesic_buffers_1000m = gpd.GeoDataFrame()\n",
    "\n",
    "geodesic_buffers_1000m['geometry'] = gpd.GeoDataFrame(\n",
    "    geometry=[Point(x,y) for x, y in zip(train['lon'], train['lat'])]\n",
    ").apply(lambda x: geodesic_point_buffer(x['geometry'].x, x['geometry'].y, 1000), axis=1)"
   ]
  },
  {
   "cell_type": "code",
   "execution_count": null,
   "metadata": {},
   "outputs": [],
   "source": [
    "train['rails_cnt'] = 0\n",
    "train['min_dist_2rail'] = 0\n",
    "k  = 0\n",
    "a = []\n",
    "mm = 0\n",
    "for i in range(len(train)):\n",
    "    for j in range(len(rail_data)):\n",
    "        if Point(rail_data['lon'][j] , rail_data['lat'][j]).within(geodesic_buffers_1000m.geometry[i]):\n",
    "            k += 1\n",
    "            d = round(distance.geodesic((train['lat'][i] , train['lon'][i]),(rail_data['lat'][j] , rail_data['lon'][j])).m, 3)\n",
    "            a.append(d)\n",
    "    train['rails_cnt'][i] = k\n",
    "    k = 0\n",
    "    try:\n",
    "        mm = np.amin(a)\n",
    "    except ValueError:\n",
    "        pass\n",
    "    train['min_dist_2rail'][i] = mm\n",
    "    a= []\n",
    "    mm = 0"
   ]
  },
  {
   "cell_type": "code",
   "execution_count": null,
   "metadata": {},
   "outputs": [],
   "source": [
    "amenity_data = pd.DataFrame(columns = ['lat','lon','city'])\n",
    "for i in set(train.City.values):\n",
    "\n",
    "    overpass_query = '''\n",
    "    [out:json];\n",
    "    area[name=\"{}\"]->.b;\n",
    "    node(area.b)[tourism=hotel];\n",
    "    out center;\n",
    "    node(area.b)[tourism=hostel];\n",
    "    out center;\n",
    "    node(area.b)[tourism=motel];\n",
    "    out center;\n",
    "    node(area.b)[amenity=hospital];\n",
    "    out center;\n",
    "    '''.format(i)\n",
    "\n",
    "    response = requests.get(overpass_url, \n",
    "                        params={'data': overpass_query})\n",
    "    amenity = response.json()\n",
    "    amenity_osm = pd.DataFrame(amenity['elements'])\n",
    "    amenity_osm = rail_osm.join(\n",
    "        pd.DataFrame([x['tags'] for x in amenity['elements']]),lsuffix='_left', rsuffix='_right')\n",
    "    if 'lat' in amenity_osm.columns:\n",
    "        amenity_osm = amenity_osm[['lat','lon']]\n",
    "    else:\n",
    "        continue\n",
    "    amenity_osm['city'] = i\n",
    "    amenity_data = pd.concat([amenity_data, amenity_osm], axis=0)\n",
    "amenity_data = amenity_data.reset_index(drop=True)"
   ]
  },
  {
   "cell_type": "code",
   "execution_count": null,
   "metadata": {},
   "outputs": [],
   "source": [
    "geodesic_buffers_2000m_t = gpd.GeoDataFrame()\n",
    "\n",
    "geodesic_buffers_2000m_t['geometry'] = gpd.GeoDataFrame(\n",
    "    geometry=[Point(x,y) for x, y in zip(train['lon'], train['lat'])]\n",
    ").apply(lambda x: geodesic_point_buffer(x['geometry'].x, x['geometry'].y, 2000), axis=1)"
   ]
  },
  {
   "cell_type": "code",
   "execution_count": null,
   "metadata": {},
   "outputs": [],
   "source": [
    "train['amenity_cnt'] = 0\n",
    "train['min_amenity_2rail'] = 0\n",
    "k  = 0\n",
    "a = []\n",
    "mm = 0\n",
    "for i in range(len(train)):\n",
    "    for j in range(len(amenity_data)):\n",
    "        if Point(amenity_data['lon'][j] , amenity_data['lat'][j]).within(geodesic_buffers_2000m_t.geometry[i]):\n",
    "            k += 1\n",
    "            d = round(distance.geodesic((train['lat'][i] , train['lon'][i]),(amenity_data['lat'][j] , amenity_data['lon'][j])).m, 3)\n",
    "            a.append(d)\n",
    "    train['amenity_cnt'][i] = k\n",
    "    k = 0\n",
    "    try:\n",
    "        mm = np.amin(a)\n",
    "    except ValueError:\n",
    "        pass\n",
    "    train['min_amenity_2rail'][i] = mm\n",
    "    a= []\n",
    "    mm = 0"
   ]
  },
  {
   "cell_type": "code",
   "execution_count": null,
   "metadata": {},
   "outputs": [],
   "source": [
    "train"
   ]
  },
  {
   "cell_type": "markdown",
   "metadata": {},
   "source": [
    "### Fit model"
   ]
  },
  {
   "cell_type": "code",
   "execution_count": null,
   "metadata": {},
   "outputs": [],
   "source": [
    "X_train, X_valid, y_train, y_valid = train_test_split(train.drop('target', axis=1), train[['target']])\n",
    "X_train = pd.get_dummies(X_train, prefix='City',columns=['City'])\n",
    "X_valid = pd.get_dummies(X_valid, prefix='City',columns=['City'])"
   ]
  },
  {
   "cell_type": "code",
   "execution_count": null,
   "metadata": {},
   "outputs": [],
   "source": [
    "for i in X_train.columns:\n",
    "    if i not in X_valid.columns:\n",
    "        X_train = X_train.drop(i,axis=1)\n",
    "        \n",
    "for i in X_valid.columns:\n",
    "    if i not in X_train.columns:\n",
    "        X_valid = X_valid.drop(i,axis=1)"
   ]
  },
  {
   "cell_type": "code",
   "execution_count": null,
   "metadata": {},
   "outputs": [],
   "source": [
    "model = LinearRegression().fit(X_train.drop('point_id', axis=1), y_train)"
   ]
  },
  {
   "cell_type": "code",
   "execution_count": null,
   "metadata": {},
   "outputs": [],
   "source": [
    "mean_absolute_error(y_valid, model.predict(X_valid.drop('point_id', axis=1)))"
   ]
  },
  {
   "cell_type": "markdown",
   "metadata": {},
   "source": [
    "### For Test\n"
   ]
  },
  {
   "cell_type": "code",
   "execution_count": null,
   "metadata": {},
   "outputs": [],
   "source": [
    "test = pd.read_csv('data/mf_geo_test.csv')"
   ]
  },
  {
   "cell_type": "code",
   "execution_count": null,
   "metadata": {},
   "outputs": [],
   "source": [
    "at = []\n",
    "for i in range(len(test)):\n",
    "    cord =  str(test['lat'][i]) , str(test['lon'][i]) \n",
    "    cordst = ', '.join(cord) \n",
    "    location = reverse(cordst)\n",
    "    if location.raw.get('address').get('city') is None:\n",
    "        at.append(location.raw.get('address').get('state'))\n",
    "    elif \"район\" in location.raw.get('address').get('city') or \"Район\" in location.raw.get('address').get('city'):\n",
    "          at.append(location.raw.get('address').get('state'))\n",
    "    else: at.append(location.raw.get('address').get('city'))\n",
    "test['City'] = at\n",
    "test['City'] = test['City'].str.replace('городской округ ', '', regex=False)"
   ]
  },
  {
   "cell_type": "code",
   "execution_count": null,
   "metadata": {},
   "outputs": [],
   "source": [
    "geodesic_buffers_700m_t = gpd.GeoDataFrame()\n",
    "\n",
    "geodesic_buffers_700m_t['geometry'] = gpd.GeoDataFrame(\n",
    "    geometry=[Point(x,y) for x, y in zip(test['lon'], test['lat'])]\n",
    ").apply(lambda x: geodesic_point_buffer(x['geometry'].x, x['geometry'].y, 700), axis=1)"
   ]
  },
  {
   "cell_type": "code",
   "execution_count": null,
   "metadata": {},
   "outputs": [],
   "source": [
    "err = []\n",
    "subway_data_t = pd.DataFrame(columns = ['lat','lon','name','city'])\n",
    "for i in set(test.City.values):\n",
    "\n",
    "    overpass_query = '''\n",
    "    [out:json];\n",
    "    area[name=\"{}\"]->.b;\n",
    "    node(area.b)[railway=station][station=subway];\n",
    "    out center;\n",
    "    node(area.b)[station=light_rail];\n",
    "    out meta;\n",
    "    '''.format(i)\n",
    "\n",
    "    response = requests.get(overpass_url, \n",
    "                        params={'data': overpass_query})\n",
    "    try:\n",
    "        subway_t = response.json()\n",
    "    except:\n",
    "        err.append(i)\n",
    "        print(i)\n",
    "        continue\n",
    "    subway_osm_t = pd.DataFrame(subway_t['elements'])\n",
    "    subway_osm_t = subway_osm_t.join(\n",
    "        pd.DataFrame([x['tags'] for x in subway_t['elements']]),lsuffix='_left', rsuffix='_right')\n",
    "    if 'lat' in subway_osm_t.columns:\n",
    "        subway_osm_t = subway_osm_t[['lat','lon','name']]\n",
    "    else:\n",
    "        continue\n",
    "    subway_osm_t['city'] = i\n",
    "    subway_data_t = pd.concat([subway_data_t, subway_osm_t], axis=0)\n",
    "subway_data_t = subway_data_t.reset_index(drop=True)"
   ]
  },
  {
   "cell_type": "code",
   "execution_count": null,
   "metadata": {},
   "outputs": [],
   "source": [
    "test['stations_cnt'] = 0\n",
    "test['min_dist_2station'] = 0\n",
    "k_t  = 0\n",
    "a_t = []\n",
    "mm_t = 0\n",
    "for i in range(len(test)):\n",
    "    for j in range(len(subway_data_t)):\n",
    "        if Point(subway_data_t['lon'][j] , subway_data_t['lat'][j]).within(geodesic_buffers_700m_t.geometry[i]):\n",
    "            k_t += 1\n",
    "            d = round(distance.geodesic((test['lat'][i] , test['lon'][i]),(subway_data_t['lat'][j] , subway_data_t['lon'][j])).m, 3)\n",
    "            a_t.append(d)\n",
    "    test['stations_cnt'][i] = k_t\n",
    "    k_t = 0\n",
    "    try:\n",
    "        mm_t = np.amin(a_t)\n",
    "    except ValueError:\n",
    "        pass\n",
    "    test['min_dist_2station'][i] = mm_t\n",
    "    a_t= []\n",
    "    mm = 0"
   ]
  },
  {
   "cell_type": "code",
   "execution_count": null,
   "metadata": {},
   "outputs": [],
   "source": [
    "geodesic_buffers_100m_t = gpd.GeoDataFrame()\n",
    "\n",
    "geodesic_buffers_100m_t['geometry'] = gpd.GeoDataFrame(\n",
    "    geometry=[Point(x,y) for x, y in zip(test['lon'], test['lat'])]\n",
    ").apply(lambda x: geodesic_point_buffer(x['geometry'].x, x['geometry'].y, 100), axis=1)"
   ]
  },
  {
   "cell_type": "code",
   "execution_count": null,
   "metadata": {},
   "outputs": [],
   "source": [
    "err = []\n",
    "bus_data_t = pd.DataFrame(columns = ['lat','lon','name','city'])\n",
    "for i in set(test.City.values):\n",
    "\n",
    "    overpass_query = '''\n",
    "    [out:json];\n",
    "    area[name=\"{}\"]->.b;\n",
    "    node(area.b)[highway=bus_stop];\n",
    "    out meta;\n",
    "    '''.format(i)\n",
    "\n",
    "    response = requests.get(overpass_url, \n",
    "                        params={'data': overpass_query})\n",
    "    print(i)\n",
    "    try:\n",
    "        bus_t = response.json()\n",
    "    except ValueError :\n",
    "        err.append(i)\n",
    "        continue\n",
    "    bus_osm_t = pd.DataFrame(bus_t['elements'])\n",
    "    bus_osm_t = bus_osm_t.join(\n",
    "        pd.DataFrame([x['tags'] for x in bus_t['elements']]),lsuffix='_left', rsuffix='_right')\n",
    "    if 'lat' in bus_osm_t.columns:\n",
    "        bus_osm_t = bus_osm_t[['lat','lon','name']]\n",
    "    else:\n",
    "        continue\n",
    "    bus_osm_t['city'] = i\n",
    "    bus_data_t = pd.concat([bus_data_t, bus_osm_t], axis=0)\n",
    "bus_data_t = bus_data_t.reset_index(drop=True)"
   ]
  },
  {
   "cell_type": "code",
   "execution_count": null,
   "metadata": {},
   "outputs": [],
   "source": [
    "for i in err:\n",
    "\n",
    "    overpass_query = '''\n",
    "    [out:json];\n",
    "    area[name=\"{}\"]->.b;\n",
    "    node(area.b)[highway=bus_stop];\n",
    "    out meta;\n",
    "    '''.format(i)\n",
    "\n",
    "    response = requests.get(overpass_url, \n",
    "                        params={'data': overpass_query})\n",
    "    print(i)\n",
    "    try:\n",
    "        bus_t = response.json()\n",
    "    except ValueError :\n",
    "        err.append(i)\n",
    "        continue\n",
    "    bus_osm_t = pd.DataFrame(bus_t['elements'])\n",
    "    bus_osm_t = bus_osm_t.join(\n",
    "        pd.DataFrame([x['tags'] for x in bus_t['elements']]),lsuffix='_left', rsuffix='_right')\n",
    "    if 'lat' in bus_osm_t.columns:\n",
    "        bus_osm_t = bus_osm_t[['lat','lon','name']]\n",
    "    else:\n",
    "        continue\n",
    "    bus_osm_t['city'] = i\n",
    "    bus_data_t = pd.concat([bus_data_t, bus_osm_t], axis=0)\n",
    "bus_data_t = bus_data_t.reset_index(drop=True)"
   ]
  },
  {
   "cell_type": "code",
   "execution_count": null,
   "metadata": {},
   "outputs": [],
   "source": [
    "test['busstop_cnt'] = 0\n",
    "k_t  = 0\n",
    "\n",
    "for i in range(len(test)):\n",
    "    for j in range(len(bus_data_t)):\n",
    "        if Point(bus_data_t['lon'][j] , bus_data_t['lat'][j]).within(geodesic_buffers_100m_t.geometry[i]):\n",
    "            k_t += 1\n",
    "    test['busstop_cnt'][i] = k_t\n",
    "    k_t = 0"
   ]
  },
  {
   "cell_type": "code",
   "execution_count": null,
   "metadata": {},
   "outputs": [],
   "source": [
    "il_t = [] \n",
    "pointl_t = []\n",
    "\n",
    "for i in set(test.City.values):\n",
    "    center = getcen(i + ', Россия')\n",
    "    point = (float(center.raw.get('lat')) , float(center.raw.get('lon')))\n",
    "    il_t.append(i)\n",
    "    pointl_t.append(point)\n",
    "City_Center_t = pd.DataFrame({'City': il_t,\n",
    "                            'Point': pointl_t})"
   ]
  },
  {
   "cell_type": "code",
   "execution_count": null,
   "metadata": {},
   "outputs": [],
   "source": [
    "tc_t = test.merge(City_Center_t, how = 'inner', left_on='City', right_on='City')\n",
    "test['distance_to_center'] = 0\n",
    "d = 0\n",
    "for i in range(len(test)):\n",
    "    d = round(distance.geodesic((tc_t['lat'][i] , tc_t['lon'][i]),tc_t['Point'][i]).m, 3)\n",
    "    test['distance_to_center'][i] = d \n",
    "    d = 0"
   ]
  },
  {
   "cell_type": "code",
   "execution_count": null,
   "metadata": {},
   "outputs": [],
   "source": [
    "geodesic_buffers_150m_t = gpd.GeoDataFrame()\n",
    "\n",
    "geodesic_buffers_150m_t['geometry'] = gpd.GeoDataFrame(\n",
    "    geometry=[Point(x,y) for x, y in zip(test['lon'], test['lat'])]\n",
    ").apply(lambda x: geodesic_point_buffer(x['geometry'].x, x['geometry'].y, 150), axis=1)"
   ]
  },
  {
   "cell_type": "code",
   "execution_count": null,
   "metadata": {},
   "outputs": [],
   "source": [
    "test['neighbors'] = 0 \n",
    "k  = 0\n",
    "\n",
    "for i in range(len(geodesic_buffers_150m_t)):\n",
    "    for j in range(len(geodesic_buffers_150m_t)):\n",
    "        if j != i:\n",
    "            if geodesic_buffers_150m_t.geometry[j].intersects(geodesic_buffers_150m_t.geometry[i]):\n",
    "                k += 1\n",
    "    test['neighbors'][i] = k\n",
    "    k = 0"
   ]
  },
  {
   "cell_type": "code",
   "execution_count": null,
   "metadata": {},
   "outputs": [],
   "source": [
    "rail_data_t = pd.DataFrame(columns = ['lat','lon','name','city'])\n",
    "for i in set(test.City.values):\n",
    "\n",
    "    overpass_query = '''\n",
    "    [out:json];\n",
    "    area[name=\"{}\"]->.b;\n",
    "    node(area.b)[amenity=bus_station];\n",
    "    out center;\n",
    "    node(area.b)[railway=station][train=yes][station!=light_rail];\n",
    "    out center;\n",
    "    '''.format(i)\n",
    "\n",
    "    response = requests.get(overpass_url, \n",
    "                        params={'data': overpass_query})\n",
    "    rail = response.json()\n",
    "    rail_osm = pd.DataFrame(rail['elements'])\n",
    "    rail_osm = rail_osm.join(\n",
    "        pd.DataFrame([x['tags'] for x in rail['elements']]),lsuffix='_left', rsuffix='_right')\n",
    "    if 'lat' in rail_osm.columns:\n",
    "        rail_osm = rail_osm[['lat','lon','name']]\n",
    "    else:\n",
    "        continue\n",
    "    rail_osm['city'] = i\n",
    "    rail_data_t = pd.concat([rail_data_t, rail_osm], axis=0)\n",
    "rail_data_t = rail_data_t.reset_index(drop=True)"
   ]
  },
  {
   "cell_type": "code",
   "execution_count": null,
   "metadata": {},
   "outputs": [],
   "source": [
    "geodesic_buffers_1000m_t = gpd.GeoDataFrame()\n",
    "\n",
    "geodesic_buffers_1000m_t['geometry'] = gpd.GeoDataFrame(\n",
    "    geometry=[Point(x,y) for x, y in zip(test['lon'], test['lat'])]\n",
    ").apply(lambda x: geodesic_point_buffer(x['geometry'].x, x['geometry'].y, 1000), axis=1)"
   ]
  },
  {
   "cell_type": "code",
   "execution_count": null,
   "metadata": {},
   "outputs": [],
   "source": [
    "test['rails_cnt'] = 0\n",
    "test['min_dist_2rail'] = 0\n",
    "k  = 0\n",
    "a = []\n",
    "mm = 0\n",
    "for i in range(len(test)):\n",
    "    for j in range(len(rail_data_t)):\n",
    "        if Point(rail_data_t['lon'][j] , rail_data_t['lat'][j]).within(geodesic_buffers_1000m_t.geometry[i]):\n",
    "            k += 1\n",
    "            d = round(distance.geodesic((test['lat'][i] , test['lon'][i]),(rail_data_t['lat'][j] , rail_data_t['lon'][j])).m, 3)\n",
    "            a.append(d)\n",
    "    test['rails_cnt'][i] = k\n",
    "    k = 0\n",
    "    try:\n",
    "        mm = np.amin(a)\n",
    "    except ValueError:\n",
    "        pass\n",
    "    test['min_dist_2rail'][i] = mm\n",
    "    a= []\n",
    "    mm = 0"
   ]
  },
  {
   "cell_type": "code",
   "execution_count": null,
   "metadata": {},
   "outputs": [],
   "source": [
    "amenity_data = pd.DataFrame(columns = ['lat','lon','city'])\n",
    "for i in set(test.City.values):\n",
    "\n",
    "    overpass_query = '''\n",
    "    [out:json];\n",
    "    area[name=\"{}\"]->.b;\n",
    "    node(area.b)[tourism=hotel];\n",
    "    out center;\n",
    "    node(area.b)[tourism=hostel];\n",
    "    out center;\n",
    "    node(area.b)[tourism=motel];\n",
    "    out center;\n",
    "    node(area.b)[amenity=hospital];\n",
    "    out center;\n",
    "    '''.format(i)\n",
    "\n",
    "    response = requests.get(overpass_url, \n",
    "                        params={'data': overpass_query})\n",
    "    amenity = response.json()\n",
    "    amenity_osm = pd.DataFrame(amenity['elements'])\n",
    "    amenity_osm = rail_osm.join(\n",
    "        pd.DataFrame([x['tags'] for x in amenity['elements']]),lsuffix='_left', rsuffix='_right')\n",
    "    if 'lat' in amenity_osm.columns:\n",
    "        amenity_osm = amenity_osm[['lat','lon']]\n",
    "    else:\n",
    "        continue\n",
    "    amenity_osm['city'] = i\n",
    "    amenity_data = pd.concat([amenity_data, amenity_osm], axis=0)\n",
    "amenity_data = amenity_data.reset_index(drop=True)"
   ]
  },
  {
   "cell_type": "code",
   "execution_count": null,
   "metadata": {},
   "outputs": [],
   "source": [
    "geodesic_buffers_2000m_t = gpd.GeoDataFrame()\n",
    "\n",
    "geodesic_buffers_2000m_t['geometry'] = gpd.GeoDataFrame(\n",
    "    geometry=[Point(x,y) for x, y in zip(test['lon'], test['lat'])]\n",
    ").apply(lambda x: geodesic_point_buffer(x['geometry'].x, x['geometry'].y, 2000), axis=1)"
   ]
  },
  {
   "cell_type": "code",
   "execution_count": null,
   "metadata": {},
   "outputs": [],
   "source": [
    "test['amenity_cnt'] = 0\n",
    "test['min_amenity_2rail'] = 0\n",
    "k  = 0\n",
    "a = []\n",
    "mm = 0\n",
    "for i in range(len(test)):\n",
    "    for j in range(len(amenity_data)):\n",
    "        if Point(amenity_data['lon'][j] , amenity_data['lat'][j]).within(geodesic_buffers_2000m_t.geometry[i]):\n",
    "            k += 1\n",
    "            d = round(distance.geodesic((test['lat'][i] , test['lon'][i]),(amenity_data['lat'][j] , amenity_data['lon'][j])).m, 3)\n",
    "            a.append(d)\n",
    "    test['amenity_cnt'][i] = k\n",
    "    k = 0\n",
    "    try:\n",
    "        mm = np.amin(a)\n",
    "    except ValueError:\n",
    "        pass\n",
    "    test['min_amenity_2rail'][i] = mm\n",
    "    a= []\n",
    "    mm = 0"
   ]
  },
  {
   "cell_type": "code",
   "execution_count": null,
   "metadata": {},
   "outputs": [],
   "source": [
    "test[test['min_dist_2rail'] >0]"
   ]
  },
  {
   "cell_type": "markdown",
   "metadata": {},
   "source": [
    "### Forecast"
   ]
  },
  {
   "cell_type": "code",
   "execution_count": null,
   "metadata": {},
   "outputs": [],
   "source": [
    "X_train,  y_train,  = train.drop('target', axis=1), train[['target']]\n",
    "X_test, y_test = test.drop('target', axis=1), test[['target']]\n",
    "X_train = pd.get_dummies(X_train, prefix='City',columns=['City'])\n",
    "X_test = pd.get_dummies(X_test, prefix='City',columns=['City'])\n"
   ]
  },
  {
   "cell_type": "code",
   "execution_count": null,
   "metadata": {},
   "outputs": [],
   "source": [
    "for i in X_train.columns:\n",
    "    if i not in X_test.columns:\n",
    "        X_train = X_train.drop(i,axis=1)\n",
    "        \n",
    "for i in X_test.columns:\n",
    "    if i not in X_train.columns:\n",
    "        X_test = X_test.drop(i,axis=1)"
   ]
  },
  {
   "cell_type": "code",
   "execution_count": null,
   "metadata": {},
   "outputs": [],
   "source": [
    "model = LinearRegression().fit(X_train.drop('point_id', axis=1), y_train)"
   ]
  },
  {
   "cell_type": "code",
   "execution_count": null,
   "metadata": {},
   "outputs": [],
   "source": [
    "mean_absolute_error(y_test, model.predict(X_test.drop('point_id', axis=1)))"
   ]
  },
  {
   "cell_type": "markdown",
   "metadata": {},
   "source": [
    "### Make submission"
   ]
  },
  {
   "cell_type": "code",
   "execution_count": null,
   "metadata": {},
   "outputs": [],
   "source": [
    "submission = pd.read_csv('data/my_submission_01.csv')\n",
    "submission['target'] = model.predict(X_test.drop('point_id', axis=1))\n",
    "submission.to_csv('data/my_submission_03.csv', index=False)"
   ]
  }
 ],
 "metadata": {
  "kernelspec": {
   "display_name": "Python 3",
   "language": "python",
   "name": "python3"
  },
  "language_info": {
   "codemirror_mode": {
    "name": "ipython",
    "version": 3
   },
   "file_extension": ".py",
   "mimetype": "text/x-python",
   "name": "python",
   "nbconvert_exporter": "python",
   "pygments_lexer": "ipython3",
   "version": "3.8.5"
  }
 },
 "nbformat": 4,
 "nbformat_minor": 4
}
